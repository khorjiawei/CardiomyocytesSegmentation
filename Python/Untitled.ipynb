{
 "cells": [
  {
   "cell_type": "code",
   "execution_count": 3,
   "metadata": {},
   "outputs": [],
   "source": [
    "import itk\n",
    "\n",
    "#file='series1_tilescan4_channel3_cropped_sp200_0_ep800_600' #'series1_tilescan4_channel3_cropped_sp300_300_ep600_600'\n",
    "file='series1_tilescan4_channel3_cropped_sp300_300_ep600_600' #'series1_tilescan4_channel3_cropped_sp300_300_ep600_600'"
   ]
  },
  {
   "cell_type": "code",
   "execution_count": 13,
   "metadata": {},
   "outputs": [],
   "source": [
    "# Median Filtering \n",
    "radius=4 #radius of kernel for median filter\n",
    "dimension=3\n",
    "InputFileName=\\\n",
    "'/home/jwk114/CardiomyocytesSegmentation/Images/'+file+'/'+file+'.tif'\n",
    "OutputFileName='/home/jwk114/CardiomyocytesSegmentation/Images/'+file+'/median.mha'\n",
    "PixelType=itk.F\n",
    "ImageType=itk.Image[PixelType,dimension]\n",
    "reader=itk.ImageFileReader[ImageType].New(FileName=InputFileName)\n",
    "\n",
    "MedianFilter=itk.MedianImageFilter[ImageType,ImageType].New()\n",
    "MedianFilter.SetInput(reader.GetOutput())\n",
    "MedianFilter.SetRadius(radius)\n",
    "\n",
    "writer=itk.ImageFileWriter[ImageType].New()\n",
    "writer.SetFileName(OutputFileName)\n",
    "writer.SetInput(MedianFilter.GetOutput())\n",
    "writer.Update()\n",
    "# PixelType=itk.UC\n",
    "# ImageType=itk.Image[PixelType,dimension]\n",
    "# RescaleFilter=itk.RescaleIntensityImageFilter[Image]"
   ]
  },
  {
   "cell_type": "code",
   "execution_count": 5,
   "metadata": {},
   "outputs": [],
   "source": [
    "# Multiscale Hessian-Based Measure and Rescaling to [0 255] of Median Image\n",
    "#Multiscale Hessian-Based Measure\n",
    "SigmaMin=2\n",
    "SigmaMax=5\n",
    "NumSigmaSteps=5\n",
    "InputFileName=\\\n",
    "'/home/jwk114/CardiomyocytesSegmentation/Images/'+file+'/median.mha'\n",
    "OutputFileName=\\\n",
    "'/home/jwk114/CardiomyocytesSegmentation/Images/'+file+'/plane.mha'\n",
    "InputImage=itk.imread(InputFileName,itk.F)\n",
    "ImageType=type(InputImage)\n",
    "dimension=3\n",
    "HessianPixelType=itk.SymmetricSecondRankTensor[itk.D,dimension]\n",
    "HessianImageType=itk.Image[HessianPixelType,dimension]\n",
    "\n",
    "ObjectnessFilter=itk.HessianToObjectnessMeasureImageFilter[HessianImageType,ImageType].New()\n",
    "ObjectnessFilter.SetBrightObject(True)\n",
    "ObjectnessFilter.SetScaleObjectnessMeasure(False)\n",
    "ObjectnessFilter.SetAlpha(1.0)\n",
    "ObjectnessFilter.SetBeta(1.0)\n",
    "ObjectnessFilter.SetGamma(1.0)\n",
    "ObjectnessFilter.SetObjectDimension(2) #M=2 for 2D plate-like structures\n",
    "\n",
    "MultiScaleFilter=itk.MultiScaleHessianBasedMeasureImageFilter[ImageType,HessianImageType, ImageType].New()\n",
    "MultiScaleFilter.SetInput(InputImage)\n",
    "MultiScaleFilter.SetHessianToMeasureFilter(ObjectnessFilter)\n",
    "MultiScaleFilter.SetSigmaStepMethodToLogarithmic()\n",
    "MultiScaleFilter.SetSigmaMaximum(SigmaMax)\n",
    "MultiScaleFilter.SetSigmaMinimum(SigmaMin)\n",
    "MultiScaleFilter.SetNumberOfSigmaSteps(NumSigmaSteps)\n",
    "\n",
    "#Rescaling\n",
    "OutputPixelType=itk.UC\n",
    "OutputImageType=itk.Image[OutputPixelType,dimension]\n",
    "\n",
    "RescaleFilter=itk.RescaleIntensityImageFilter[ImageType,OutputImageType].New()\n",
    "RescaleFilter.SetInput(MultiScaleFilter)\n",
    "\n",
    "itk.imwrite(RescaleFilter.GetOutput(),OutputFileName)\n"
   ]
  },
  {
   "cell_type": "code",
   "execution_count": 2,
   "metadata": {},
   "outputs": [],
   "source": [
    "#Watershed of Median Image\n",
    "InputFileName=\\\n",
    "'/home/jwk114/CardiomyocytesSegmentation/Images/'+file+'/median-flip.tif'\n",
    "OutputFileName=\\\n",
    "'/home/jwk114/CardiomyocytesSegmentation/Images/'+file+'/watershed-flip.mha'\n",
    "dimension=3\n",
    "PixelType=itk.F\n",
    "ImageType=itk.Image[PixelType,dimension]\n",
    "reader=itk.ImageFileReader[ImageType].New()\n",
    "reader.SetFileName(InputFileName)\n",
    "\n",
    "WatershedFilter=itk.WatershedImageFilter.New(Input=reader.GetOutput())\n",
    "threshold=0\n",
    "level=0.2\n",
    "WatershedFilter.SetThreshold(threshold)\n",
    "WatershedFilter.SetLevel(level)\n",
    "\n",
    "LabelledImageType=type(WatershedFilter.GetOutput())\n",
    "PixelType=itk.UC\n",
    "RGBPixelType=itk.RGBPixel[PixelType]\n",
    "RGBImageType=itk.Image[RGBPixelType,dimension]\n",
    "\n",
    "ScalarToRGBColormapFilterType=\\\n",
    "itk.ScalarToRGBColormapImageFilter[LabelledImageType,RGBImageType]\n",
    "ColormapImageFilter = ScalarToRGBColormapFilterType.New()\n",
    "ColormapImageFilter.SetColormap(ScalarToRGBColormapFilterType.Jet)\n",
    "ColormapImageFilter.SetInput(WatershedFilter.GetOutput())\n",
    "ColormapImageFilter.Update()\n",
    "\n",
    "WriterType = itk.ImageFileWriter[RGBImageType]\n",
    "writer = WriterType.New()\n",
    "writer.SetFileName(OutputFileName)\n",
    "writer.SetInput(ColormapImageFilter.GetOutput())\n",
    "writer.Update()\n"
   ]
  },
  {
   "cell_type": "code",
   "execution_count": 145,
   "metadata": {},
   "outputs": [],
   "source": [
    "# Morphological Watershed (can't get it to work)\n",
    "InputFileName='/home/jwk114/CardiomyocytesSegmentation/Images/median.mha'\n",
    "OutputFileName='/home/jwk114/CardiomyocytesSegmentation/Images/morphWatershed.tif'\n",
    "dimension=3\n",
    "PixelType=itk.F\n",
    "ImageType=itk.Image[PixelType,dimension]\n",
    "reader=itk.ImageFileReader[ImageType].New()\n",
    "reader.SetFileName(InputFileName)\n",
    "\n",
    "MorphWatershedFilter=itk.MorphologicalWatershedImageFilter.New(Input=reader.GetOutput())\n",
    "level=0.5\n",
    "threshold=0.005\n",
    "MorphWatershedFilter.SetLevel(level)\n",
    "MorphWatershedFilter.SetFullyConnected(True)\n",
    "MorphWatershedFilter.Update()\n",
    "#MorphWatershedFilter.SetThreshold(threshold)\n",
    "\n",
    "LabelledImageType=type(MorphWatershedFilter.GetOutput())\n",
    "PixelType=itk.UC\n",
    "RGBPixelType=itk.RGBPixel[PixelType]\n",
    "RGBImageType=itk.Image[RGBPixelType,dimension]\n",
    "\n",
    "ScalarToRGBColormapFilterType=\\\n",
    "itk.ScalarToRGBColormapImageFilter[LabelledImageType,RGBImageType]\n",
    "ColormapImageFilter = ScalarToRGBColormapFilterType.New()\n",
    "ColormapImageFilter.SetColormap(ScalarToRGBColormapFilterType.Jet)\n",
    "ColormapImageFilter.SetInput(MorphWatershedFilter.GetOutput())\n",
    "ColormapImageFilter.Update()\n",
    "\n",
    "WriterType = itk.ImageFileWriter[RGBImageType]\n",
    "#WriterType = itk.ImageFileWriter[type(MorphWatershedFilter.GetOutput())]\n",
    "writer = WriterType.New()\n",
    "writer.SetFileName(OutputFileName)\n",
    "writer.SetInput(ColormapImageFilter.GetOutput())\n",
    "#writer.SetInput(MorphWatershedFilter.GetOutput())\n",
    "writer.Update()\n",
    "\n",
    "\n",
    "\n"
   ]
  },
  {
   "cell_type": "code",
   "execution_count": 158,
   "metadata": {},
   "outputs": [
    {
     "data": {
      "text/plain": [
       "'choohoo'"
      ]
     },
     "execution_count": 158,
     "metadata": {},
     "output_type": "execute_result"
    }
   ],
   "source": []
  },
  {
   "cell_type": "code",
   "execution_count": 142,
   "metadata": {},
   "outputs": [],
   "source": []
  },
  {
   "cell_type": "code",
   "execution_count": null,
   "metadata": {},
   "outputs": [],
   "source": []
  },
  {
   "cell_type": "code",
   "execution_count": null,
   "metadata": {},
   "outputs": [],
   "source": []
  }
 ],
 "metadata": {
  "kernelspec": {
   "display_name": "Python (fyp)",
   "language": "python",
   "name": "fyp"
  },
  "language_info": {
   "codemirror_mode": {
    "name": "ipython",
    "version": 3
   },
   "file_extension": ".py",
   "mimetype": "text/x-python",
   "name": "python",
   "nbconvert_exporter": "python",
   "pygments_lexer": "ipython3",
   "version": "3.7.6"
  },
  "toc": {
   "base_numbering": 1,
   "nav_menu": {},
   "number_sections": true,
   "sideBar": true,
   "skip_h1_title": false,
   "title_cell": "Table of Contents",
   "title_sidebar": "Contents",
   "toc_cell": false,
   "toc_position": {},
   "toc_section_display": true,
   "toc_window_display": false
  }
 },
 "nbformat": 4,
 "nbformat_minor": 2
}
